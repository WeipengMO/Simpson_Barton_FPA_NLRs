{
 "cells": [
  {
   "cell_type": "markdown",
   "metadata": {},
   "source": [
    "# Untitled Notebook\n",
    "\n",
    "What's this notebook about?"
   ]
  },
  {
   "cell_type": "code",
   "execution_count": 1,
   "metadata": {},
   "outputs": [
    {
     "data": {
      "image/png": "[encoded data removed]",
      "text/plain": [
       "<Figure size 360x72 with 1 Axes>"
      ]
     },
     "metadata": {},
     "output_type": "display_data"
    }
   ],
   "source": [
    "import re\n",
    "import html\n",
    "import sys\n",
    "import os\n",
    "from glob import glob\n",
    "import random\n",
    "from collections import Counter, defaultdict\n",
    "import itertools as it\n",
    "\n",
    "import numpy as np\n",
    "import pandas as pd\n",
    "from scipy import stats\n",
    "import matplotlib.pyplot as plt\n",
    "import matplotlib_venn as vn\n",
    "from matplotlib.colors import ListedColormap\n",
    "import seaborn as sns\n",
    "\n",
    "\n",
    "## Default plotting params\n",
    "\n",
    "%matplotlib inline\n",
    "sns.set(font='Arial')\n",
    "plt.rcParams['svg.fonttype'] = 'none'\n",
    "style = sns.axes_style('white')\n",
    "style.update(sns.axes_style('ticks'))\n",
    "style['xtick.major.size'] = 2\n",
    "style['ytick.major.size'] = 2\n",
    "sns.set(font_scale=1.4, style=style)\n",
    "pal = sns.color_palette(['#0072b2', '#d55e00', '#009e73', '#f0e442', '#cc79a7'])\n",
    "cmap = ListedColormap(pal.as_hex())\n",
    "sns.set_palette(pal)\n",
    "sns.palplot(pal)\n",
    "plt.show()"
   ]
  },
  {
   "cell_type": "code",
   "execution_count": 2,
   "metadata": {},
   "outputs": [
    {
     "name": "stderr",
     "output_type": "stream",
     "text": [
      "/cluster/ggs_lab/mtparker/.conda/envs/nb_bio/lib/python3.6/site-packages/IPython/core/interactiveshell.py:3063: DtypeWarning: Columns (0) have mixed types.Specify dtype option on import or set low_memory=False.\n",
      "  interactivity=interactivity, compiler=compiler, result=result)\n"
     ]
    },
    {
     "data": {
      "text/html": [
       "<div>\n",
       "<style scoped>\n",
       "    .dataframe tbody tr th:only-of-type {\n",
       "        vertical-align: middle;\n",
       "    }\n",
       "\n",
       "    .dataframe tbody tr th {\n",
       "        vertical-align: top;\n",
       "    }\n",
       "\n",
       "    .dataframe thead th {\n",
       "        text-align: right;\n",
       "    }\n",
       "</style>\n",
       "<table border=\"1\" class=\"dataframe\">\n",
       "  <thead>\n",
       "    <tr style=\"text-align: right;\">\n",
       "      <th></th>\n",
       "      <th>chrom</th>\n",
       "      <th>start</th>\n",
       "      <th>end</th>\n",
       "      <th>locus_id</th>\n",
       "      <th>score</th>\n",
       "      <th>strand</th>\n",
       "      <th>cpm</th>\n",
       "      <th>logfc</th>\n",
       "      <th>pval</th>\n",
       "      <th>fdr</th>\n",
       "      <th>gene_level_fdr</th>\n",
       "      <th>direction</th>\n",
       "      <th>effect_size</th>\n",
       "    </tr>\n",
       "  </thead>\n",
       "  <tbody>\n",
       "    <tr>\n",
       "      <th>16967</th>\n",
       "      <td>1</td>\n",
       "      <td>17678357</td>\n",
       "      <td>17678470</td>\n",
       "      <td>RLOC_00005044</td>\n",
       "      <td>.</td>\n",
       "      <td>-</td>\n",
       "      <td>3.56</td>\n",
       "      <td>16.9047</td>\n",
       "      <td>1.134000e-10</td>\n",
       "      <td>4.318000e-08</td>\n",
       "      <td>0.000000</td>\n",
       "      <td>False</td>\n",
       "      <td>16.9047</td>\n",
       "    </tr>\n",
       "    <tr>\n",
       "      <th>59865</th>\n",
       "      <td>3</td>\n",
       "      <td>7375049</td>\n",
       "      <td>7375312</td>\n",
       "      <td>RLOC_00017151</td>\n",
       "      <td>.</td>\n",
       "      <td>-</td>\n",
       "      <td>11.24</td>\n",
       "      <td>-16.4323</td>\n",
       "      <td>8.070000e-25</td>\n",
       "      <td>2.039000e-21</td>\n",
       "      <td>0.000000</td>\n",
       "      <td>True</td>\n",
       "      <td>16.4323</td>\n",
       "    </tr>\n",
       "    <tr>\n",
       "      <th>115494</th>\n",
       "      <td>5</td>\n",
       "      <td>24688748</td>\n",
       "      <td>24688940</td>\n",
       "      <td>RLOC_00034283</td>\n",
       "      <td>.</td>\n",
       "      <td>-</td>\n",
       "      <td>8.47</td>\n",
       "      <td>16.0590</td>\n",
       "      <td>3.126000e-21</td>\n",
       "      <td>5.017000e-18</td>\n",
       "      <td>0.000000</td>\n",
       "      <td>False</td>\n",
       "      <td>16.0590</td>\n",
       "    </tr>\n",
       "    <tr>\n",
       "      <th>98786</th>\n",
       "      <td>5</td>\n",
       "      <td>5782636</td>\n",
       "      <td>5782940</td>\n",
       "      <td>RLOC_00029048</td>\n",
       "      <td>.</td>\n",
       "      <td>+</td>\n",
       "      <td>11.67</td>\n",
       "      <td>-16.0537</td>\n",
       "      <td>2.319000e-20</td>\n",
       "      <td>3.358000e-17</td>\n",
       "      <td>0.000000</td>\n",
       "      <td>True</td>\n",
       "      <td>16.0537</td>\n",
       "    </tr>\n",
       "    <tr>\n",
       "      <th>96497</th>\n",
       "      <td>5</td>\n",
       "      <td>4211301</td>\n",
       "      <td>4211418</td>\n",
       "      <td>RLOC_00028548</td>\n",
       "      <td>.</td>\n",
       "      <td>+</td>\n",
       "      <td>3.12</td>\n",
       "      <td>15.9329</td>\n",
       "      <td>8.041000e-07</td>\n",
       "      <td>8.959000e-05</td>\n",
       "      <td>0.000013</td>\n",
       "      <td>False</td>\n",
       "      <td>15.9329</td>\n",
       "    </tr>\n",
       "  </tbody>\n",
       "</table>\n",
       "</div>"
      ],
      "text/plain": [
       "       chrom     start       end       locus_id score strand    cpm    logfc  \\\n",
       "16967      1  17678357  17678470  RLOC_00005044     .      -   3.56  16.9047   \n",
       "59865      3   7375049   7375312  RLOC_00017151     .      -  11.24 -16.4323   \n",
       "115494     5  24688748  24688940  RLOC_00034283     .      -   8.47  16.0590   \n",
       "98786      5   5782636   5782940  RLOC_00029048     .      +  11.67 -16.0537   \n",
       "96497      5   4211301   4211418  RLOC_00028548     .      +   3.12  15.9329   \n",
       "\n",
       "                pval           fdr  gene_level_fdr  direction  effect_size  \n",
       "16967   1.134000e-10  4.318000e-08        0.000000      False      16.9047  \n",
       "59865   8.070000e-25  2.039000e-21        0.000000       True      16.4323  \n",
       "115494  3.126000e-21  5.017000e-18        0.000000      False      16.0590  \n",
       "98786   2.319000e-20  3.358000e-17        0.000000       True      16.0537  \n",
       "96497   8.041000e-07  8.959000e-05        0.000013      False      15.9329  "
      ]
     },
     "execution_count": 2,
     "metadata": {},
     "output_type": "execute_result"
    }
   ],
   "source": [
    "RESULTS_COLUMNS = [\n",
    "    'chrom', 'start', 'end', 'locus_id', 'score', 'strand',\n",
    "    'cpm', 'logfc', 'pval', 'fdr', 'gene_level_fdr'\n",
    "]\n",
    "\n",
    "fpa_vs_col0_regions = pd.read_csv(\n",
    "    '../pipeline/differential_expression/dexseq_er_counts/fpa8_vs_col0.tsv',\n",
    "    sep='\\t',\n",
    "    names=RESULTS_COLUMNS\n",
    ").dropna()\n",
    "fpa_vs_col0_regions['direction'] = fpa_vs_col0_regions.logfc < 0\n",
    "fpa_vs_col0_regions['effect_size'] = fpa_vs_col0_regions.logfc.abs()\n",
    "fpa_vs_col0_regions = fpa_vs_col0_regions.sort_values('effect_size', ascending=False).drop_duplicates([\n",
    "    'locus_id', 'direction'\n",
    "])\n",
    "\n",
    "FPAox_vs_col0_regions = pd.read_csv(\n",
    "    '../pipeline/differential_expression/dexseq_er_counts/35SFPA_vs_col0.tsv',\n",
    "    sep='\\t',\n",
    "    names=RESULTS_COLUMNS\n",
    ").dropna()\n",
    "FPAox_vs_col0_regions['direction'] = FPAox_vs_col0_regions.logfc < 0\n",
    "FPAox_vs_col0_regions['effect_size'] = FPAox_vs_col0_regions.logfc.abs()\n",
    "FPAox_vs_col0_regions = FPAox_vs_col0_regions.sort_values('effect_size', ascending=False).drop_duplicates([\n",
    "    'locus_id', 'direction'\n",
    "])\n",
    "\n",
    "FPAox_vs_col0_regions.head()"
   ]
  },
  {
   "cell_type": "code",
   "execution_count": 3,
   "metadata": {},
   "outputs": [
    {
     "data": {
      "image/png": "[encoded data removed]",
      "text/plain": [
       "<Figure size 432x288 with 2 Axes>"
      ]
     },
     "metadata": {},
     "output_type": "display_data"
    }
   ],
   "source": [
    "fig, axes = plt.subplots(figsize=(6, 4), ncols=2, sharey=True)\n",
    "\n",
    "fpa_sig_regions = fpa_vs_col0_regions.query('fdr < 0.05 & gene_level_fdr < 0.05 & abs(logfc) > 1').copy()\n",
    "FPAox_sig_regions = FPAox_vs_col0_regions.query('fdr < 0.05 & gene_level_fdr < 0.05 & abs(logfc) > 1').copy()\n",
    "\n",
    "sns.boxplot(\n",
    "    x=fpa_sig_regions.logfc > 0,\n",
    "    y=fpa_sig_regions.logfc.abs(),\n",
    "    ax=axes[0],\n",
    "    palette=pal[1:3],\n",
    "    fliersize=0\n",
    ")\n",
    "\n",
    "sns.boxplot(\n",
    "    x=FPAox_sig_regions.logfc > 0,\n",
    "    y=FPAox_sig_regions.logfc.abs(),\n",
    "    ax=axes[1],\n",
    "    palette=pal[1:3],\n",
    "    fliersize=0\n",
    ")\n",
    "\n",
    "axes[0].set_title('fpa-8 vs Col-0')\n",
    "axes[1].set_title('35S::FPA:YFP vs Col-0')\n",
    "axes[0].set_ylim(0.5, 7)\n",
    "axes[0].set_ylabel('Effect size\\n(Illumina logFC)')\n",
    "axes[1].set_ylabel('')\n",
    "axes[0].set_xticklabels([f'Down\\nn={len(fpa_sig_regions.query(\"logfc < 0\"))}',\n",
    "                         f'Up\\nn={len(fpa_sig_regions.query(\"logfc > 0\"))}'])\n",
    "axes[1].set_xticklabels([f'Down\\nn={len(FPAox_sig_regions.query(\"logfc < 0\"))}',\n",
    "                         f'Up\\nn={len(FPAox_sig_regions.query(\"logfc > 0\"))}'])\n",
    "axes[0].set_xlabel('Expressed region\\nexpression change')\n",
    "axes[1].set_xlabel('Expressed region\\nexpression change')\n",
    "plt.tight_layout()\n",
    "plt.savefig('Illumina_differentially_expressed_regions.svg')\n",
    "plt.show()"
   ]
  },
  {
   "cell_type": "code",
   "execution_count": 18,
   "metadata": {},
   "outputs": [
    {
     "data": {
      "text/plain": [
       "<matplotlib_venn._common.VennDiagram at 0x2b36591e74e0>"
      ]
     },
     "execution_count": 18,
     "metadata": {},
     "output_type": "execute_result"
    },
    {
     "data": {
      "image/png": "[encoded data removed]",
      "text/plain": [
       "<Figure size 432x288 with 1 Axes>"
      ]
     },
     "metadata": {},
     "output_type": "display_data"
    }
   ],
   "source": [
    "fpa_up = set(fpa_sig_regions.query('logfc > 0').locus_id)\n",
    "fpa_down = set(fpa_sig_regions.query('logfc < 0').locus_id)\n",
    "vn.venn2([fpa_up, fpa_down], ['fpa-8 upreg', 'fpa-8 downreg'])\n",
    "plt.show()"
   ]
  },
  {
   "cell_type": "code",
   "execution_count": 20,
   "metadata": {},
   "outputs": [
    {
     "data": {
      "image/png": "[encoded data removed]",
      "text/plain": [
       "<Figure size 432x288 with 1 Axes>"
      ]
     },
     "metadata": {},
     "output_type": "display_data"
    }
   ],
   "source": [
    "FPAox_up = set(FPAox_sig_regions.query('logfc > 0').locus_id)\n",
    "FPAox_down = set(FPAox_sig_regions.query('logfc < 0').locus_id)\n",
    "vn.venn2([FPAox_up, FPAox_down], ['35SFPA upreg', '35SFPA downreg'])\n",
    "plt.show()"
   ]
  },
  {
   "cell_type": "code",
   "execution_count": 39,
   "metadata": {},
   "outputs": [
    {
     "name": "stderr",
     "output_type": "stream",
     "text": [
      "/cluster/ggs_lab/mtparker/.conda/envs/nb_bio/lib/python3.6/site-packages/IPython/core/interactiveshell.py:3063: DtypeWarning: Columns (0) have mixed types.Specify dtype option on import or set low_memory=False.\n",
      "  interactivity=interactivity, compiler=compiler, result=result)\n"
     ]
    },
    {
     "data": {
      "text/html": [
       "<div>\n",
       "<style scoped>\n",
       "    .dataframe tbody tr th:only-of-type {\n",
       "        vertical-align: middle;\n",
       "    }\n",
       "\n",
       "    .dataframe tbody tr th {\n",
       "        vertical-align: top;\n",
       "    }\n",
       "\n",
       "    .dataframe thead th {\n",
       "        text-align: right;\n",
       "    }\n",
       "</style>\n",
       "<table border=\"1\" class=\"dataframe\">\n",
       "  <thead>\n",
       "    <tr style=\"text-align: right;\">\n",
       "      <th></th>\n",
       "      <th>chrom</th>\n",
       "      <th>start</th>\n",
       "      <th>end</th>\n",
       "      <th>locus_id</th>\n",
       "      <th>score</th>\n",
       "      <th>strand</th>\n",
       "      <th>cpm</th>\n",
       "      <th>logfc</th>\n",
       "      <th>pval</th>\n",
       "      <th>fdr</th>\n",
       "      <th>gene_level_fdr</th>\n",
       "      <th>direction</th>\n",
       "      <th>effect_size</th>\n",
       "    </tr>\n",
       "  </thead>\n",
       "  <tbody>\n",
       "    <tr>\n",
       "      <th>112814</th>\n",
       "      <td>4</td>\n",
       "      <td>10897794</td>\n",
       "      <td>10898448</td>\n",
       "      <td>RLOC_00024828</td>\n",
       "      <td>.</td>\n",
       "      <td>+</td>\n",
       "      <td>50.08</td>\n",
       "      <td>23.5023</td>\n",
       "      <td>3.838000e-103</td>\n",
       "      <td>3.727000e-98</td>\n",
       "      <td>0.00000</td>\n",
       "      <td>False</td>\n",
       "      <td>23.5023</td>\n",
       "    </tr>\n",
       "    <tr>\n",
       "      <th>124891</th>\n",
       "      <td>4</td>\n",
       "      <td>17896742</td>\n",
       "      <td>17897120</td>\n",
       "      <td>RLOC_00026998</td>\n",
       "      <td>.</td>\n",
       "      <td>-</td>\n",
       "      <td>44.30</td>\n",
       "      <td>18.2586</td>\n",
       "      <td>1.082000e-70</td>\n",
       "      <td>5.253000e-66</td>\n",
       "      <td>0.00000</td>\n",
       "      <td>False</td>\n",
       "      <td>18.2586</td>\n",
       "    </tr>\n",
       "    <tr>\n",
       "      <th>25094</th>\n",
       "      <td>1</td>\n",
       "      <td>16565344</td>\n",
       "      <td>16565437</td>\n",
       "      <td>RLOC_00004725</td>\n",
       "      <td>.</td>\n",
       "      <td>+</td>\n",
       "      <td>7.46</td>\n",
       "      <td>13.4280</td>\n",
       "      <td>2.568000e-01</td>\n",
       "      <td>4.888000e-01</td>\n",
       "      <td>0.90690</td>\n",
       "      <td>False</td>\n",
       "      <td>13.4280</td>\n",
       "    </tr>\n",
       "    <tr>\n",
       "      <th>4904</th>\n",
       "      <td>1</td>\n",
       "      <td>2631769</td>\n",
       "      <td>2631856</td>\n",
       "      <td>RLOC_00000868</td>\n",
       "      <td>.</td>\n",
       "      <td>+</td>\n",
       "      <td>9.75</td>\n",
       "      <td>-11.8266</td>\n",
       "      <td>3.576000e-04</td>\n",
       "      <td>9.165000e-03</td>\n",
       "      <td>0.01532</td>\n",
       "      <td>True</td>\n",
       "      <td>11.8266</td>\n",
       "    </tr>\n",
       "    <tr>\n",
       "      <th>76334</th>\n",
       "      <td>3</td>\n",
       "      <td>3450746</td>\n",
       "      <td>3450983</td>\n",
       "      <td>RLOC_00015905</td>\n",
       "      <td>.</td>\n",
       "      <td>-</td>\n",
       "      <td>11.73</td>\n",
       "      <td>-9.7634</td>\n",
       "      <td>2.586000e-01</td>\n",
       "      <td>4.909000e-01</td>\n",
       "      <td>0.90850</td>\n",
       "      <td>True</td>\n",
       "      <td>9.7634</td>\n",
       "    </tr>\n",
       "  </tbody>\n",
       "</table>\n",
       "</div>"
      ],
      "text/plain": [
       "       chrom     start       end       locus_id score strand    cpm    logfc  \\\n",
       "112814     4  10897794  10898448  RLOC_00024828     .      +  50.08  23.5023   \n",
       "124891     4  17896742  17897120  RLOC_00026998     .      -  44.30  18.2586   \n",
       "25094      1  16565344  16565437  RLOC_00004725     .      +   7.46  13.4280   \n",
       "4904       1   2631769   2631856  RLOC_00000868     .      +   9.75 -11.8266   \n",
       "76334      3   3450746   3450983  RLOC_00015905     .      -  11.73  -9.7634   \n",
       "\n",
       "                 pval           fdr  gene_level_fdr  direction  effect_size  \n",
       "112814  3.838000e-103  3.727000e-98         0.00000      False      23.5023  \n",
       "124891   1.082000e-70  5.253000e-66         0.00000      False      18.2586  \n",
       "25094    2.568000e-01  4.888000e-01         0.90690      False      13.4280  \n",
       "4904     3.576000e-04  9.165000e-03         0.01532       True      11.8266  \n",
       "76334    2.586000e-01  4.909000e-01         0.90850       True       9.7634  "
      ]
     },
     "execution_count": 39,
     "metadata": {},
     "output_type": "execute_result"
    }
   ],
   "source": [
    "RESULTS_COLUMNS = [\n",
    "    'chrom', 'start', 'end', 'locus_id', 'score', 'strand',\n",
    "    'cpm', 'logfc', 'pval', 'fdr', 'gene_level_fdr'\n",
    "]\n",
    "\n",
    "fpa_vs_col0_junc = pd.read_csv(\n",
    "    '../pipeline/differential_expression/dexseq_junc_counts/fpa8_vs_col0.tsv',\n",
    "    sep='\\t',\n",
    "    names=RESULTS_COLUMNS\n",
    ").dropna()\n",
    "fpa_vs_col0_junc['direction'] = fpa_vs_col0_junc.logfc < 0\n",
    "fpa_vs_col0_junc['effect_size'] = fpa_vs_col0_junc.logfc.abs()\n",
    "fpa_vs_col0_junc = fpa_vs_col0_junc.sort_values('effect_size', ascending=False).drop_duplicates([\n",
    "    'locus_id', 'direction'\n",
    "])\n",
    "\n",
    "FPAox_vs_col0_junc = pd.read_csv(\n",
    "    '../pipeline/differential_expression/dexseq_junc_counts/35SFPA_vs_col0.tsv',\n",
    "    sep='\\t',\n",
    "    names=RESULTS_COLUMNS\n",
    ").dropna()\n",
    "FPAox_vs_col0_junc['direction'] = FPAox_vs_col0_junc.logfc < 0\n",
    "FPAox_vs_col0_junc['effect_size'] = FPAox_vs_col0_junc.logfc.abs()\n",
    "FPAox_vs_col0_junc = FPAox_vs_col0_junc.sort_values('effect_size', ascending=False).drop_duplicates([\n",
    "    'locus_id', 'direction'\n",
    "])\n",
    "\n",
    "FPAox_vs_col0_junc.head()"
   ]
  },
  {
   "cell_type": "code",
   "execution_count": 48,
   "metadata": {},
   "outputs": [
    {
     "data": {
      "image/png": "[encoded data removed]",
      "text/plain": [
       "<Figure size 432x288 with 2 Axes>"
      ]
     },
     "metadata": {},
     "output_type": "display_data"
    }
   ],
   "source": [
    "fpa_sig_junc = fpa_vs_col0_junc.query('fdr < 0.05 & gene_level_fdr < 0.05 & abs(logfc) > 1')\n",
    "FPAox_sig_junc = FPAox_vs_col0_junc.query('fdr < 0.05 & gene_level_fdr < 0.05 & abs(logfc) > 1')\n",
    "\n",
    "fig, axes = plt.subplots(figsize=(6, 4), ncols=2, sharey=True)\n",
    "\n",
    "sns.boxplot(\n",
    "    x=fpa_sig_junc.logfc > 0,\n",
    "    y=fpa_sig_junc.logfc.abs(),\n",
    "    ax=axes[0],\n",
    "    palette=pal[1:3],\n",
    "    fliersize=0\n",
    ")\n",
    "\n",
    "sns.boxplot(\n",
    "    x=FPAox_sig_junc.logfc > 0,\n",
    "    y=FPAox_sig_junc.logfc.abs(),\n",
    "    ax=axes[1],\n",
    "    palette=pal[1:3],\n",
    "    fliersize=0\n",
    ")\n",
    "\n",
    "axes[0].set_title('fpa-8 vs Col-0')\n",
    "axes[1].set_title('35S::FPA:YFP vs Col-0')\n",
    "axes[0].set_ylim(0.5, 7)\n",
    "axes[0].set_ylabel('Effect size\\n(Illumina logFC)')\n",
    "axes[1].set_ylabel('')\n",
    "axes[0].set_xticklabels([f'Down\\nn={len(fpa_sig_junc.query(\"logfc < 0\"))}',\n",
    "                         f'Up\\nn={len(fpa_sig_junc.query(\"logfc > 0\"))}'])\n",
    "axes[1].set_xticklabels([f'Down\\nn={len(FPAox_sig_junc.query(\"logfc < 0\"))}',\n",
    "                         f'Up\\nn={len(FPAox_sig_junc.query(\"logfc > 0\"))}'])\n",
    "axes[0].set_xlabel('Junction expression\\nchange')\n",
    "axes[1].set_xlabel('Junction expression\\nchange')\n",
    "plt.tight_layout()\n",
    "plt.savefig('Illumina_differentially_expressed_junctions.svg')\n",
    "plt.show()"
   ]
  },
  {
   "cell_type": "code",
   "execution_count": 42,
   "metadata": {},
   "outputs": [],
   "source": [
    "def get_gtf_attribute(gtf_record, attribute):\n",
    "    try:\n",
    "        attr = re.search(f'{attribute} \"(.+?)\";', gtf_record[8]).group(1)\n",
    "    except AttributeError:\n",
    "        raise ValueError(\n",
    "            f'Could not parse attribute {attribute} '\n",
    "            f'from GTF with feature type {record[2]}'\n",
    "        )\n",
    "    return attr\n",
    "\n",
    "\n",
    "locus2gene = defaultdict(set)\n",
    "with open('../../nanopore_apa_pipeline/pipeline/assembly/merged_nanopore_assembly.gtf') as gtf:\n",
    "    for record in gtf:\n",
    "        record = record.split('\\t')\n",
    "        if record[2] == 'transcript':\n",
    "            locus_id = get_gtf_attribute(record, 'locus')\n",
    "            gene_id = get_gtf_attribute(record, 'gene_id')\n",
    "            if re.match('AT[1-5]G\\d{5}', gene_id):\n",
    "                locus2gene[locus_id].add(gene_id)\n",
    "\n",
    "\n",
    "n_genes_per_loci = {locus_id: len(genes) for locus_id, genes in locus2gene.items()}"
   ]
  },
  {
   "cell_type": "code",
   "execution_count": 43,
   "metadata": {},
   "outputs": [
    {
     "data": {
      "text/plain": [
       "0.16185897435897437"
      ]
     },
     "execution_count": 43,
     "metadata": {},
     "output_type": "execute_result"
    }
   ],
   "source": [
    "(fpa_sig_junc.locus_id.map(n_genes_per_loci).fillna(0) > 1).sum() / len(fpa_sig_junc)"
   ]
  },
  {
   "cell_type": "code",
   "execution_count": 44,
   "metadata": {},
   "outputs": [
    {
     "data": {
      "text/plain": [
       "0.04637600666481533"
      ]
     },
     "execution_count": 44,
     "metadata": {},
     "output_type": "execute_result"
    }
   ],
   "source": [
    "(fpa_vs_col0_junc.locus_id.map(n_genes_per_loci).fillna(0) > 1).sum() / len(fpa_vs_col0_junc)"
   ]
  },
  {
   "cell_type": "code",
   "execution_count": null,
   "metadata": {},
   "outputs": [],
   "source": []
  }
 ],
 "metadata": {
  "kernelspec": {
   "display_name": "Python [conda env:nb_bio]",
   "language": "python",
   "name": "conda-env-nb_bio-py"
  },
  "language_info": {
   "codemirror_mode": {
    "name": "ipython",
    "version": 3
   },
   "file_extension": ".py",
   "mimetype": "text/x-python",
   "name": "python",
   "nbconvert_exporter": "python",
   "pygments_lexer": "ipython3",
   "version": "3.6.7"
  }
 },
 "nbformat": 4,
 "nbformat_minor": 4
}
