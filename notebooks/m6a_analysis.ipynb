{
 "cells": [
  {
   "cell_type": "markdown",
   "metadata": {},
   "source": [
    "# LC-MS analysis of m6A levels in fpa-8 mutants and 35S::FPA overexpressors"
   ]
  },
  {
   "cell_type": "code",
   "execution_count": 1,
   "metadata": {},
   "outputs": [
    {
     "data": {
      "image/png": "[encoded data removed]",
      "text/plain": [
       "<Figure size 504x72 with 1 Axes>"
      ]
     },
     "metadata": {},
     "output_type": "display_data"
    }
   ],
   "source": [
    "import sys\n",
    "import os\n",
    "import re\n",
    "from glob import glob\n",
    "import random\n",
    "from collections import Counter, defaultdict\n",
    "\n",
    "import numpy as np\n",
    "import pandas as pd\n",
    "from scipy import stats\n",
    "import matplotlib.pyplot as plt\n",
    "from matplotlib.colors import ListedColormap\n",
    "import seaborn as sns\n",
    "\n",
    "\n",
    "## Default plotting params\n",
    "\n",
    "%matplotlib inline\n",
    "sns.set(font='Arial')\n",
    "plt.rcParams['svg.fonttype'] = 'none'\n",
    "style = sns.axes_style('white')\n",
    "style.update(sns.axes_style('ticks'))\n",
    "style['xtick.major.size'] = 2\n",
    "style['ytick.major.size'] = 2\n",
    "sns.set(font_scale=1.2, style=style)\n",
    "pal = sns.color_palette(['#0072b2', '#d55e00', '#009e73', '#f0e442', '#cc79a7', '#56b4e9', '#e69f00'])\n",
    "cmap = ListedColormap(pal.as_hex())\n",
    "sns.set_palette(pal)\n",
    "sns.palplot(pal)\n",
    "plt.show()"
   ]
  },
  {
   "cell_type": "code",
   "execution_count": 6,
   "metadata": {},
   "outputs": [
    {
     "data": {
      "text/html": [
       "<div>\n",
       "<style scoped>\n",
       "    .dataframe tbody tr th:only-of-type {\n",
       "        vertical-align: middle;\n",
       "    }\n",
       "\n",
       "    .dataframe tbody tr th {\n",
       "        vertical-align: top;\n",
       "    }\n",
       "\n",
       "    .dataframe thead th {\n",
       "        text-align: right;\n",
       "    }\n",
       "</style>\n",
       "<table border=\"1\" class=\"dataframe\">\n",
       "  <thead>\n",
       "    <tr style=\"text-align: right;\">\n",
       "      <th></th>\n",
       "      <th>genotype</th>\n",
       "      <th>m6a</th>\n",
       "      <th>A</th>\n",
       "      <th>ratio</th>\n",
       "    </tr>\n",
       "  </thead>\n",
       "  <tbody>\n",
       "    <tr>\n",
       "      <th>0</th>\n",
       "      <td>Col-0</td>\n",
       "      <td>0.051704</td>\n",
       "      <td>4.425659</td>\n",
       "      <td>0.011683</td>\n",
       "    </tr>\n",
       "    <tr>\n",
       "      <th>1</th>\n",
       "      <td>Col-0</td>\n",
       "      <td>0.021586</td>\n",
       "      <td>2.293149</td>\n",
       "      <td>0.009413</td>\n",
       "    </tr>\n",
       "    <tr>\n",
       "      <th>2</th>\n",
       "      <td>Col-0</td>\n",
       "      <td>0.031023</td>\n",
       "      <td>2.903776</td>\n",
       "      <td>0.010684</td>\n",
       "    </tr>\n",
       "    <tr>\n",
       "      <th>3</th>\n",
       "      <td>Col-0</td>\n",
       "      <td>0.026879</td>\n",
       "      <td>2.674497</td>\n",
       "      <td>0.010050</td>\n",
       "    </tr>\n",
       "    <tr>\n",
       "      <th>4</th>\n",
       "      <td>vir-1</td>\n",
       "      <td>0.003184</td>\n",
       "      <td>2.512245</td>\n",
       "      <td>0.001267</td>\n",
       "    </tr>\n",
       "  </tbody>\n",
       "</table>\n",
       "</div>"
      ],
      "text/plain": [
       "  genotype       m6a         A     ratio\n",
       "0    Col-0  0.051704  4.425659  0.011683\n",
       "1    Col-0  0.021586  2.293149  0.009413\n",
       "2    Col-0  0.031023  2.903776  0.010684\n",
       "3    Col-0  0.026879  2.674497  0.010050\n",
       "4    vir-1  0.003184  2.512245  0.001267"
      ]
     },
     "execution_count": 6,
     "metadata": {},
     "output_type": "execute_result"
    }
   ],
   "source": [
    "lcms_data = pd.read_csv('data/LCMS_m6A.csv', sep=',')\n",
    "lcms_data['ratio'] = lcms_data['m6a'] / lcms_data['A']\n",
    "lcms_data.head()"
   ]
  },
  {
   "cell_type": "code",
   "execution_count": 29,
   "metadata": {},
   "outputs": [
    {
     "data": {
      "image/png": "[encoded data removed]",
      "text/plain": [
       "<Figure size 360x360 with 1 Axes>"
      ]
     },
     "metadata": {},
     "output_type": "display_data"
    }
   ],
   "source": [
    "fig, ax = plt.subplots(figsize=(5, 5))\n",
    "\n",
    "sns.boxplot(x='genotype', y='ratio',\n",
    "            order=['Col-0', 'fpa-8', '35S::FPA:YFP', 'vir-1'],\n",
    "            color='#eeeeee',\n",
    "            data=lcms_data)\n",
    "\n",
    "sns.stripplot(x='genotype', y='ratio',\n",
    "              order=['Col-0', 'fpa-8', '35S::FPA:YFP', 'vir-1'],\n",
    "              data=lcms_data, jitter=0.4,\n",
    "              palette=[pal[0], pal[1], pal[2], pal[4]])\n",
    "ax.set_xlabel('')\n",
    "ax.set_ylabel('m6A:A ratio')\n",
    "plt.savefig('figures/m6a_A_ratio.svg')\n",
    "plt.show()"
   ]
  },
  {
   "cell_type": "code",
   "execution_count": 30,
   "metadata": {},
   "outputs": [
    {
     "data": {
      "text/html": [
       "<div>\n",
       "<style scoped>\n",
       "    .dataframe tbody tr th:only-of-type {\n",
       "        vertical-align: middle;\n",
       "    }\n",
       "\n",
       "    .dataframe tbody tr th {\n",
       "        vertical-align: top;\n",
       "    }\n",
       "\n",
       "    .dataframe thead th {\n",
       "        text-align: right;\n",
       "    }\n",
       "</style>\n",
       "<table border=\"1\" class=\"dataframe\">\n",
       "  <thead>\n",
       "    <tr style=\"text-align: right;\">\n",
       "      <th></th>\n",
       "      <th>genotype</th>\n",
       "      <th>ratio</th>\n",
       "    </tr>\n",
       "  </thead>\n",
       "  <tbody>\n",
       "    <tr>\n",
       "      <th>0</th>\n",
       "      <td>Col-0</td>\n",
       "      <td>0.007274</td>\n",
       "    </tr>\n",
       "    <tr>\n",
       "      <th>1</th>\n",
       "      <td>Col-0</td>\n",
       "      <td>0.008634</td>\n",
       "    </tr>\n",
       "    <tr>\n",
       "      <th>2</th>\n",
       "      <td>Col-0</td>\n",
       "      <td>0.008254</td>\n",
       "    </tr>\n",
       "    <tr>\n",
       "      <th>3</th>\n",
       "      <td>Col-0</td>\n",
       "      <td>0.008558</td>\n",
       "    </tr>\n",
       "    <tr>\n",
       "      <th>4</th>\n",
       "      <td>vir-1</td>\n",
       "      <td>0.000858</td>\n",
       "    </tr>\n",
       "  </tbody>\n",
       "</table>\n",
       "</div>"
      ],
      "text/plain": [
       "  genotype     ratio\n",
       "0    Col-0  0.007274\n",
       "1    Col-0  0.008634\n",
       "2    Col-0  0.008254\n",
       "3    Col-0  0.008558\n",
       "4    vir-1  0.000858"
      ]
     },
     "execution_count": 30,
     "metadata": {},
     "output_type": "execute_result"
    }
   ],
   "source": [
    "flacc = [\n",
    "    'Col-0', 'Col-0', 'Col-0', 'Col-0',\n",
    "    'vir-1', 'vir-1', 'vir-1', 'vir-1',\n",
    "    'flacc-1', 'flacc-1', 'flacc-1', 'flacc-1',\n",
    "]\n",
    "flacc_res = [0.007274009, 0.008633628, 0.008254319, 0.008558344,\n",
    "             0.000857854, 0.000921575, 0.000947094, 8.96763e-05,\n",
    "             0.00960193, 0.010145082, 0.009676993, 0.009587339]\n",
    "\n",
    "flacc_res = pd.DataFrame(list(zip(flacc, flacc_res)), columns=['genotype', 'ratio'])\n",
    "flacc_res.head()"
   ]
  },
  {
   "cell_type": "code",
   "execution_count": 39,
   "metadata": {},
   "outputs": [
    {
     "data": {
      "image/png": "[encoded data removed]",
      "text/plain": [
       "<Figure size 360x360 with 1 Axes>"
      ]
     },
     "metadata": {},
     "output_type": "display_data"
    }
   ],
   "source": [
    "fig, ax = plt.subplots(figsize=(5, 5))\n",
    "\n",
    "sns.boxplot(x='genotype', y='ratio',\n",
    "            order=['Col-0', 'flacc-1', 'vir-1'],\n",
    "            color='#eeeeee',\n",
    "            data=flacc_res,\n",
    "            showfliers=False)\n",
    "\n",
    "sns.stripplot(x='genotype', y='ratio',\n",
    "              order=['Col-0', 'flacc-1', 'vir-1'],\n",
    "              data=flacc_res, jitter=0.4, size=8,\n",
    "              palette=[pal[0], pal[1], pal[2]])\n",
    "ax.set_xlabel('')\n",
    "ax.set_ylabel('m6A:A ratio')\n",
    "plt.show()"
   ]
  },
  {
   "cell_type": "code",
   "execution_count": null,
   "metadata": {},
   "outputs": [],
   "source": []
  }
 ],
 "metadata": {
  "kernelspec": {
   "display_name": "Python [conda env:nb_bio]",
   "language": "python",
   "name": "conda-env-nb_bio-py"
  },
  "language_info": {
   "codemirror_mode": {
    "name": "ipython",
    "version": 3
   },
   "file_extension": ".py",
   "mimetype": "text/x-python",
   "name": "python",
   "nbconvert_exporter": "python",
   "pygments_lexer": "ipython3",
   "version": "3.6.7"
  }
 },
 "nbformat": 4,
 "nbformat_minor": 4
}
